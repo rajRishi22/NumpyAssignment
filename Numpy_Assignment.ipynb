{
 "cells": [
  {
   "cell_type": "code",
   "execution_count": null,
   "id": "49294444-7a0c-46ba-982e-cbb286d9568d",
   "metadata": {},
   "outputs": [],
   "source": [
    "# 1.Ans Yes,list_ is a list whereas array_list is an array."
   ]
  },
  {
   "cell_type": "code",
   "execution_count": 5,
   "id": "4ce22706-7ff8-492e-a525-fb02b3262c2d",
   "metadata": {},
   "outputs": [],
   "source": [
    "import numpy as np\n",
    "import pandas as pd"
   ]
  },
  {
   "cell_type": "code",
   "execution_count": null,
   "id": "162bd42c-9191-4994-ba75-999b67f6f13c",
   "metadata": {},
   "outputs": [],
   "source": []
  },
  {
   "cell_type": "code",
   "execution_count": 2,
   "id": "b9724f4e-499f-4a7e-9166-1dfe5271127d",
   "metadata": {},
   "outputs": [],
   "source": [
    "list_=['1','2','3','4','5']"
   ]
  },
  {
   "cell_type": "code",
   "execution_count": 3,
   "id": "1604b846-39bf-465d-ab89-711b9e42d58b",
   "metadata": {},
   "outputs": [],
   "source": [
    "arr_list=np.array(object=list_)"
   ]
  },
  {
   "cell_type": "code",
   "execution_count": 10,
   "id": "d3dda717-ef8d-4563-af2c-547fdcefefbe",
   "metadata": {},
   "outputs": [
    {
     "data": {
      "text/plain": [
       "list"
      ]
     },
     "execution_count": 10,
     "metadata": {},
     "output_type": "execute_result"
    }
   ],
   "source": [
    "type(list_)"
   ]
  },
  {
   "cell_type": "code",
   "execution_count": 11,
   "id": "a8254e88-fac2-47a6-ad19-f10c1784cf63",
   "metadata": {},
   "outputs": [
    {
     "data": {
      "text/plain": [
       "numpy.ndarray"
      ]
     },
     "execution_count": 11,
     "metadata": {},
     "output_type": "execute_result"
    }
   ],
   "source": [
    "type(arr_list)"
   ]
  },
  {
   "cell_type": "code",
   "execution_count": 15,
   "id": "19e8f881-554b-401b-8869-199451c1f767",
   "metadata": {},
   "outputs": [
    {
     "name": "stdout",
     "output_type": "stream",
     "text": [
      "<class 'str'>\n",
      "<class 'str'>\n",
      "<class 'str'>\n",
      "<class 'str'>\n",
      "<class 'str'>\n",
      "<class 'numpy.str_'>\n",
      "<class 'numpy.str_'>\n",
      "<class 'numpy.str_'>\n",
      "<class 'numpy.str_'>\n",
      "<class 'numpy.str_'>\n"
     ]
    }
   ],
   "source": [
    "# 2.Ans\n",
    "for i in range(5):\n",
    "    print(type(list_[i]))\n",
    "for i in range(5):\n",
    "    print(type(arr_list[i]))"
   ]
  },
  {
   "cell_type": "code",
   "execution_count": 18,
   "id": "fe83c749-710b-42bb-a855-dad2073879b2",
   "metadata": {},
   "outputs": [],
   "source": [
    "# 3.Ans\n",
    "array_list=np.array(object=list_,dtype=int)"
   ]
  },
  {
   "cell_type": "code",
   "execution_count": 19,
   "id": "e832ed5f-900f-4f50-ba53-9c26a188b702",
   "metadata": {},
   "outputs": [
    {
     "name": "stdout",
     "output_type": "stream",
     "text": [
      "<class 'str'>\n",
      "<class 'str'>\n",
      "<class 'str'>\n",
      "<class 'str'>\n",
      "<class 'str'>\n",
      "<class 'numpy.str_'>\n",
      "<class 'numpy.str_'>\n",
      "<class 'numpy.str_'>\n",
      "<class 'numpy.str_'>\n",
      "<class 'numpy.str_'>\n"
     ]
    }
   ],
   "source": [
    "for i in range(5):\n",
    "    print(type(list_[i]))\n",
    "for i in range(5):\n",
    "    print(type(arr_list[i]))"
   ]
  },
  {
   "cell_type": "code",
   "execution_count": 22,
   "id": "458d5388-2d99-43b5-a0f7-5c5ec6870bf9",
   "metadata": {},
   "outputs": [],
   "source": [
    "# 4.ans\n",
    "import numpy as np\n",
    "num_list=[[1,2,3],[4,5,6]]\n",
    "num_array=np.array(object=num_list)"
   ]
  },
  {
   "cell_type": "code",
   "execution_count": 24,
   "id": "f36e8f64-19e0-4002-83d8-40113d37d769",
   "metadata": {},
   "outputs": [
    {
     "data": {
      "text/plain": [
       "(2, 3)"
      ]
     },
     "execution_count": 24,
     "metadata": {},
     "output_type": "execute_result"
    }
   ],
   "source": [
    "# 4.Ans\n",
    "np.shape(num_array)"
   ]
  },
  {
   "cell_type": "code",
   "execution_count": 25,
   "id": "48468e08-4620-409e-a8f7-c1707043462c",
   "metadata": {},
   "outputs": [
    {
     "data": {
      "text/plain": [
       "6"
      ]
     },
     "execution_count": 25,
     "metadata": {},
     "output_type": "execute_result"
    }
   ],
   "source": [
    "np.size(num_array)"
   ]
  },
  {
   "cell_type": "code",
   "execution_count": 27,
   "id": "3ce4c936-2b48-4b12-9702-39ec6e38652f",
   "metadata": {},
   "outputs": [
    {
     "data": {
      "text/plain": [
       "array([[0., 0., 0.],\n",
       "       [0., 0., 0.],\n",
       "       [0., 0., 0.]])"
      ]
     },
     "execution_count": 27,
     "metadata": {},
     "output_type": "execute_result"
    }
   ],
   "source": [
    "# 5.Ans\n",
    "np.zeros((3,3))"
   ]
  },
  {
   "cell_type": "code",
   "execution_count": 29,
   "id": "b3e00e1e-ed83-4bfa-862a-3ec565d76fef",
   "metadata": {},
   "outputs": [
    {
     "data": {
      "text/plain": [
       "array([[1., 0., 0., 0., 0.],\n",
       "       [0., 1., 0., 0., 0.],\n",
       "       [0., 0., 1., 0., 0.],\n",
       "       [0., 0., 0., 1., 0.],\n",
       "       [0., 0., 0., 0., 1.]])"
      ]
     },
     "execution_count": 29,
     "metadata": {},
     "output_type": "execute_result"
    }
   ],
   "source": [
    "# 6.Ans\n",
    "np.eye(5)"
   ]
  },
  {
   "cell_type": "code",
   "execution_count": null,
   "id": "5f6c0e82-fc4e-48e5-a4f8-a6ddd1765010",
   "metadata": {},
   "outputs": [],
   "source": []
  }
 ],
 "metadata": {
  "kernelspec": {
   "display_name": "Python 3 (ipykernel)",
   "language": "python",
   "name": "python3"
  },
  "language_info": {
   "codemirror_mode": {
    "name": "ipython",
    "version": 3
   },
   "file_extension": ".py",
   "mimetype": "text/x-python",
   "name": "python",
   "nbconvert_exporter": "python",
   "pygments_lexer": "ipython3",
   "version": "3.10.8"
  }
 },
 "nbformat": 4,
 "nbformat_minor": 5
}
